{
 "cells": [
  {
   "cell_type": "code",
   "execution_count": 1,
   "id": "ab605a15-4809-4224-a175-d0307cc76b67",
   "metadata": {},
   "outputs": [],
   "source": [
    "sl =[]"
   ]
  },
  {
   "cell_type": "code",
   "execution_count": 7,
   "id": "a75691d5-e6e0-492c-8f3b-be70f471a8aa",
   "metadata": {},
   "outputs": [],
   "source": [
    "def main_():\n",
    "    while True:\n",
    "        print('메인화면')\n",
    "        print('학생정보 관리. 메뉴를 선택하시오:')\n",
    "        print(f'[{len(sl)}명이 학생 정보가 있습니다]')\n",
    "        print('------------------------------')\n",
    "        print('1. 학생정보 입력')\n",
    "        print('2. 학생정보 검색')\n",
    "        print('3. 학생정보 출력')\n",
    "        print('4. 학생정보 저장')\n",
    "        print('5. 종료')\n",
    "        \n",
    "        a = input()\n",
    "        \n",
    "        if a == '5':\n",
    "            break\n",
    "        if a == '1':\n",
    "            return input_inpo_1()"
   ]
  },
  {
   "cell_type": "code",
   "execution_count": 13,
   "id": "433c372b-7c8d-4286-b1b7-7bf3cf3262d5",
   "metadata": {},
   "outputs": [],
   "source": [
    "def input_inpo_1():\n",
    "    print('학생 정보 입력')\n",
    "    print(f'[{len(sl)}명이 학생 정보가 있습니다]')\n",
    "    print('------------------------------')\n",
    "    print('1. 학생정보 입력')\n",
    "    print('2. 학생정보 검색')\n",
    "    print('3. 학생정보 출력')\n",
    "    print('4. 학생정보 저장')\n",
    "    print('5. 종료')\n",
    "    \n",
    "    while True:\n",
    "        a = input('학생정보 관리. 메뉴를 선택하시오:')\n",
    "        \n",
    "        if a == '5':\n",
    "            break\n",
    "        if a == '1':\n",
    "            return input_inpo_1_1()"
   ]
  },
  {
   "cell_type": "code",
   "execution_count": 17,
   "id": "773b72b1-dd76-4a4e-befa-96a1af1b6a21",
   "metadata": {
    "tags": []
   },
   "outputs": [],
   "source": [
    "def input_inpo_1_1():\n",
    "    print('입력 화면')\n",
    "    print('------------------------------')\n",
    "    print('1. 이름:')\n",
    "    print('2. 나이:')\n",
    "    print('3. 전공:')\n",
    "    print(\"4. 전화번호:            ('-'를 붙여서)\")\n",
    "    print('5. 주소: ')\n",
    "    print('------------------------------')\n",
    "    \n",
    "    a = input('학생정보 관리. 메뉴를 선택하시오:')\n",
    "    \n",
    "    if a == '5':\n",
    "        print('프로그램을 종료합니다')\n",
    "        \n",
    "    else:\n",
    "        a_li = []\n",
    "        a_li.append(input('1. 이름:'))\n",
    "        a_li.append(input('2. 나이:'))\n",
    "        a_li.append(input('3. 전공:'))\n",
    "        a_li.append(input(\"4. 전화번호:     ('-'를 붙여서)\"))\n",
    "        a_li.append(input('5. 주소:'))\n",
    "        sl.append({'번호': len(sl)+1,\n",
    "                       '이름': a_li[0],\n",
    "                       '나이' : a_li[1],\n",
    "                       '전공' : a_li[2],\n",
    "                       '전화번호' : a_li[3],\n",
    "                       '주소': a_li[4]})        \n",
    "    "
   ]
  },
  {
   "cell_type": "code",
   "execution_count": 16,
   "id": "7a5377a5-69f9-4251-8571-d7b4c41f6942",
   "metadata": {
    "tags": []
   },
   "outputs": [
    {
     "name": "stdout",
     "output_type": "stream",
     "text": [
      "메인화면\n",
      "학생정보 관리. 메뉴를 선택하시오:\n",
      "[0명이 학생 정보가 있습니다]\n",
      "------------------------------\n",
      "1. 학생정보 입력\n",
      "2. 학생정보 검색\n",
      "3. 학생정보 출력\n",
      "4. 학생정보 저장\n",
      "5. 종료\n"
     ]
    },
    {
     "name": "stdin",
     "output_type": "stream",
     "text": [
      " 1\n"
     ]
    },
    {
     "name": "stdout",
     "output_type": "stream",
     "text": [
      "학생 정보 입력\n",
      "[0명이 학생 정보가 있습니다]\n",
      "------------------------------\n",
      "1. 학생정보 입력\n",
      "2. 학생정보 검색\n",
      "3. 학생정보 출력\n",
      "4. 학생정보 저장\n",
      "5. 종료\n"
     ]
    },
    {
     "name": "stdin",
     "output_type": "stream",
     "text": [
      "학생정보 관리. 메뉴를 선택하시오: 1\n"
     ]
    },
    {
     "name": "stdout",
     "output_type": "stream",
     "text": [
      "입력 화면\n",
      "------------------------------\n",
      "1. 이름:\n",
      "2. 나이:\n",
      "3. 전공:\n",
      "4. 전화번호:            ('-'를 붙여서)\n",
      "5. 주소: \n",
      "------------------------------\n"
     ]
    },
    {
     "name": "stdin",
     "output_type": "stream",
     "text": [
      "학생정보 관리. 메뉴를 선택하시오: 1\n",
      "1. 이름: t\n",
      "2. 나이: t\n",
      "3. 전공: t\n",
      "4. 전화번호:     ('-'를 붙여서) t\n",
      "5. 주소: t\n"
     ]
    }
   ],
   "source": [
    "main_()"
   ]
  },
  {
   "cell_type": "code",
   "execution_count": null,
   "id": "b786a239-dfcc-4bb9-a456-b210cd70983f",
   "metadata": {},
   "outputs": [],
   "source": []
  },
  {
   "cell_type": "code",
   "execution_count": null,
   "id": "5b962aaf-4246-493e-ae53-703247ca2c23",
   "metadata": {},
   "outputs": [],
   "source": []
  },
  {
   "cell_type": "code",
   "execution_count": null,
   "id": "dc18e893-0de8-4b6d-b605-4538314af7b5",
   "metadata": {},
   "outputs": [],
   "source": []
  },
  {
   "cell_type": "code",
   "execution_count": null,
   "id": "a60bc398-79c0-47ef-969a-3be6f28b94af",
   "metadata": {},
   "outputs": [],
   "source": []
  },
  {
   "cell_type": "code",
   "execution_count": null,
   "id": "7a856af4-3ae9-47e6-a35b-dfdd8a927d7b",
   "metadata": {},
   "outputs": [],
   "source": []
  },
  {
   "cell_type": "code",
   "execution_count": null,
   "id": "9263f188-4eae-4b6f-8db6-c158d01aa27f",
   "metadata": {},
   "outputs": [],
   "source": []
  },
  {
   "cell_type": "code",
   "execution_count": null,
   "id": "05bf6e76-0e17-463c-8c20-7dbbc4b58b67",
   "metadata": {},
   "outputs": [],
   "source": []
  },
  {
   "cell_type": "code",
   "execution_count": null,
   "id": "73a77943-048f-4e17-899f-5687538fdd83",
   "metadata": {},
   "outputs": [],
   "source": []
  },
  {
   "cell_type": "code",
   "execution_count": null,
   "id": "3986960b-b261-40bf-a99f-0b9ae2189f6e",
   "metadata": {},
   "outputs": [],
   "source": []
  },
  {
   "cell_type": "code",
   "execution_count": null,
   "id": "09aac5bc-2353-4e5a-8c22-fecb780b772b",
   "metadata": {},
   "outputs": [],
   "source": []
  },
  {
   "cell_type": "code",
   "execution_count": null,
   "id": "15365018-d4fa-452c-a978-571a6021ded2",
   "metadata": {},
   "outputs": [],
   "source": []
  },
  {
   "cell_type": "code",
   "execution_count": null,
   "id": "69728f38-6c2d-4712-b170-0092bd28f482",
   "metadata": {},
   "outputs": [],
   "source": []
  },
  {
   "cell_type": "code",
   "execution_count": null,
   "id": "17da3145-b4fb-4aef-abd7-e2507891a3a3",
   "metadata": {},
   "outputs": [],
   "source": []
  },
  {
   "cell_type": "code",
   "execution_count": null,
   "id": "18412e69-a50d-406b-9b44-c8cb80a63efb",
   "metadata": {},
   "outputs": [],
   "source": []
  }
 ],
 "metadata": {
  "kernelspec": {
   "display_name": "Python 3 (ipykernel)",
   "language": "python",
   "name": "python3"
  },
  "language_info": {
   "codemirror_mode": {
    "name": "ipython",
    "version": 3
   },
   "file_extension": ".py",
   "mimetype": "text/x-python",
   "name": "python",
   "nbconvert_exporter": "python",
   "pygments_lexer": "ipython3",
   "version": "3.10.8"
  }
 },
 "nbformat": 4,
 "nbformat_minor": 5
}
