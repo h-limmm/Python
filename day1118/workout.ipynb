{
 "cells": [
  {
   "cell_type": "code",
   "execution_count": null,
   "id": "08cc0b73-855c-49c7-8942-0db2739e9bff",
   "metadata": {},
   "outputs": [],
   "source": []
  },
  {
   "cell_type": "code",
   "execution_count": null,
   "id": "52842200-cb29-48b5-84e7-94135e47bf89",
   "metadata": {},
   "outputs": [],
   "source": [
    "입력\n",
    "- input \n",
    "\n",
    "저장\n",
    "- \n",
    "\n",
    "출력"
   ]
  },
  {
   "cell_type": "code",
   "execution_count": null,
   "id": "09d2c474-45e3-4aa2-b94a-242aef2429bd",
   "metadata": {},
   "outputs": [],
   "source": []
  },
  {
   "cell_type": "code",
   "execution_count": 1,
   "id": "63601d84-54cc-42c9-af54-26d8c3781ad7",
   "metadata": {},
   "outputs": [
    {
     "name": "stdout",
     "output_type": "stream",
     "text": [
      "학생정보 관리. 메뉴를 선택하시오:________ \n",
      "[ 0명이 학생 정보가 있습니다]\n",
      "------------------------------\n",
      "1. 학생정보 입력\n",
      "2. 학생정보 검색\n",
      "3. 학생정보 출력\n",
      "4. 학생정보 저장\n",
      "5. 종료\n"
     ]
    }
   ],
   "source": [
    "print('학생정보 관리. 메뉴를 선택하시오:________ \\n[ 0명이 학생 정보가 있습니다]\\n------------------------------\\n1. 학생정보 입력\\n2. 학생정보 검색\\n3. 학생정보 출력\\n4. 학생정보 저장\\n5. 종료')"
   ]
  },
  {
   "cell_type": "code",
   "execution_count": 3,
   "id": "c3f38f72-f5a7-401f-b8a2-93b93b9ffbaa",
   "metadata": {},
   "outputs": [
    {
     "name": "stdout",
     "output_type": "stream",
     "text": [
      "학생정보 관리. 메뉴를 선택하시오:________\n",
      " [ 0명이 학생 정보가 있습니다]\n",
      "------------------------------\n",
      "1. 학생정보 입력\n",
      "2. 학생정보 검색\n",
      "3. 학생정보 출력\n",
      "4. 학생정보 저장\n",
      "5. 종료\n"
     ]
    }
   ],
   "source": [
    "print('학생정보 관리. 메뉴를 선택하시오:________')\n",
    "print(' [ 0명이 학생 정보가 있습니다]')\n",
    "print('------------------------------')\n",
    "print('1. 학생정보 입력')\n",
    "print('2. 학생정보 검색')\n",
    "print('3. 학생정보 출력')\n",
    "print('4. 학생정보 저장')\n",
    "print('5. 종료')\n",
    "\n"
   ]
  },
  {
   "cell_type": "code",
   "execution_count": null,
   "id": "ab605a15-4809-4224-a175-d0307cc76b67",
   "metadata": {},
   "outputs": [],
   "source": []
  },
  {
   "cell_type": "code",
   "execution_count": 47,
   "id": "a75691d5-e6e0-492c-8f3b-be70f471a8aa",
   "metadata": {},
   "outputs": [],
   "source": [
    "def main_():\n",
    "    while True:\n",
    "        print('메인화면')\n",
    "        a = input()\n",
    "        if a == '5':\n",
    "            break\n",
    "        if a == '1':\n",
    "            return input_inpo_1()"
   ]
  },
  {
   "cell_type": "code",
   "execution_count": 50,
   "id": "7a5377a5-69f9-4251-8571-d7b4c41f6942",
   "metadata": {},
   "outputs": [
    {
     "name": "stdout",
     "output_type": "stream",
     "text": [
      "메인화면\n"
     ]
    },
    {
     "name": "stdin",
     "output_type": "stream",
     "text": [
      " 1\n"
     ]
    },
    {
     "name": "stdout",
     "output_type": "stream",
     "text": [
      "학생 정보 입력\n"
     ]
    },
    {
     "name": "stdin",
     "output_type": "stream",
     "text": [
      " 1\n"
     ]
    },
    {
     "name": "stdout",
     "output_type": "stream",
     "text": [
      "입력 화면\n"
     ]
    },
    {
     "name": "stdin",
     "output_type": "stream",
     "text": [
      " 5\n"
     ]
    }
   ],
   "source": [
    "main_()"
   ]
  },
  {
   "cell_type": "code",
   "execution_count": 48,
   "id": "433c372b-7c8d-4286-b1b7-7bf3cf3262d5",
   "metadata": {},
   "outputs": [],
   "source": [
    "def input_inpo_1():\n",
    "    print('학생 정보 입력')\n",
    "    while True:\n",
    "        a = input()\n",
    "        if a == '5':\n",
    "            break\n",
    "        if a == '1':\n",
    "            return input_inpo_1_1()"
   ]
  },
  {
   "cell_type": "code",
   "execution_count": null,
   "id": "7a8dbda8-7562-4317-b993-5f28f9e676b1",
   "metadata": {},
   "outputs": [],
   "source": []
  },
  {
   "cell_type": "code",
   "execution_count": 49,
   "id": "2b2ae16c-36a7-401a-b3f2-0d373f86ddd1",
   "metadata": {},
   "outputs": [],
   "source": [
    "sl =[]\n",
    "def input_inpo_1_1 ():\n",
    "    print('입력 화면')\n",
    "    a = input()\n",
    "    \n",
    "    while True:\n",
    "        if a == '5':\n",
    "            break\n",
    "        \n",
    "        a_s = a.split(', ')\n",
    "        new_sl.update({'이름': a_s[0],\n",
    "           '나이' : a_s[1],\n",
    "           '전공' : a_s[2],\n",
    "           '전화번호' : a_s[3],\n",
    "           '주소': a_s[4]})\n",
    "        sl.append(new_sl)\n",
    "        print(sl)"
   ]
  },
  {
   "cell_type": "code",
   "execution_count": 17,
   "id": "ab9de0aa-9eb0-48b4-a583-ec4a73b5597e",
   "metadata": {},
   "outputs": [
    {
     "name": "stdout",
     "output_type": "stream",
     "text": [
      "[{'이름': ' 홍길동', '나이': '20', '전공': '컴퓨터공학', '전화번호': '010-223-4444', '주소': '서울시 강동구 풍납동'}]\n"
     ]
    }
   ],
   "source": [
    "input_inpo(a)"
   ]
  },
  {
   "cell_type": "code",
   "execution_count": 4,
   "id": "ce9bb6c0-8c6e-4117-98d4-0136d9145de7",
   "metadata": {},
   "outputs": [
    {
     "data": {
      "text/plain": [
       "{'이름': 'ㅁ', '나이': '10', '전공': 'ㅁ', '전화번호': 'ㅁ', '주소': 'ㅁ'}"
      ]
     },
     "execution_count": 7,
     "metadata": {},
     "output_type": "execute_result"
    }
   ],
   "source": [
    "new_sl"
   ]
  },
  {
   "cell_type": "code",
   "execution_count": null,
   "id": "b786a239-dfcc-4bb9-a456-b210cd70983f",
   "metadata": {},
   "outputs": [],
   "source": []
  },
  {
   "cell_type": "code",
   "execution_count": null,
   "id": "5b962aaf-4246-493e-ae53-703247ca2c23",
   "metadata": {},
   "outputs": [],
   "source": []
  },
  {
   "cell_type": "code",
   "execution_count": null,
   "id": "dc18e893-0de8-4b6d-b605-4538314af7b5",
   "metadata": {},
   "outputs": [],
   "source": []
  },
  {
   "cell_type": "code",
   "execution_count": null,
   "id": "a60bc398-79c0-47ef-969a-3be6f28b94af",
   "metadata": {},
   "outputs": [],
   "source": []
  },
  {
   "cell_type": "code",
   "execution_count": null,
   "id": "7a856af4-3ae9-47e6-a35b-dfdd8a927d7b",
   "metadata": {},
   "outputs": [],
   "source": []
  },
  {
   "cell_type": "code",
   "execution_count": null,
   "id": "9263f188-4eae-4b6f-8db6-c158d01aa27f",
   "metadata": {},
   "outputs": [],
   "source": []
  },
  {
   "cell_type": "code",
   "execution_count": null,
   "id": "05bf6e76-0e17-463c-8c20-7dbbc4b58b67",
   "metadata": {},
   "outputs": [],
   "source": []
  },
  {
   "cell_type": "code",
   "execution_count": null,
   "id": "73a77943-048f-4e17-899f-5687538fdd83",
   "metadata": {},
   "outputs": [],
   "source": []
  },
  {
   "cell_type": "code",
   "execution_count": 22,
   "id": "38dedbd5-538c-4787-a24e-c64771a2da64",
   "metadata": {},
   "outputs": [
    {
     "data": {
      "text/plain": [
       "'홍길동, 20, 컴퓨터공학, 010-223-4444, 서울시 강동구 풍납동'"
      ]
     },
     "execution_count": 22,
     "metadata": {},
     "output_type": "execute_result"
    }
   ],
   "source": [
    "a"
   ]
  },
  {
   "cell_type": "code",
   "execution_count": 23,
   "id": "f8df489a-15a4-467e-bd18-a4d9cccd1e8c",
   "metadata": {},
   "outputs": [
    {
     "data": {
      "text/plain": [
       "['홍길동', '20', '컴퓨터공학', '010-223-4444', '서울시 강동구 풍납동']"
      ]
     },
     "execution_count": 23,
     "metadata": {},
     "output_type": "execute_result"
    }
   ],
   "source": [
    "a_s = a.split(', ')\n",
    "a_s"
   ]
  },
  {
   "cell_type": "code",
   "execution_count": 9,
   "id": "79bb34cb-a378-4429-9128-b7746fde0fb1",
   "metadata": {},
   "outputs": [
    {
     "data": {
      "text/plain": [
       "[{'이름': 'ㅁ', '나이': 10, '전공': 'ㅁ', '전화번호': 'ㅁ', '주소': 'ㅁ'},\n",
       " {'이름': 'a', '나이': 10, '전공': 'a', '전화번호': 'a', '주소': 'a'}]"
      ]
     },
     "execution_count": 9,
     "metadata": {},
     "output_type": "execute_result"
    }
   ],
   "source": [
    "학생자료 =[ {'이름': 'ㅁ',\n",
    "       '나이' : 10,\n",
    "       '전공' : 'ㅁ',\n",
    "       '전화번호' : 'ㅁ',\n",
    "       '주소': 'ㅁ'}, \n",
    "       {'이름': 'a',\n",
    "       '나이' : 10,\n",
    "       '전공' : 'a',\n",
    "       '전화번호' : 'a',\n",
    "       '주소': 'a'}]\n",
    "학생자료"
   ]
  },
  {
   "cell_type": "code",
   "execution_count": 14,
   "id": "fe7ba106-a177-4f89-b779-6d488b5e9f12",
   "metadata": {},
   "outputs": [],
   "source": [
    "new_sl= {'이름': 'a',\n",
    "       '나이' : 10,\n",
    "       '전공' : 'a',\n",
    "       '전화번호' : 'a',\n",
    "       '주소': 'a'}"
   ]
  },
  {
   "cell_type": "code",
   "execution_count": 24,
   "id": "e302999c-f90f-4a77-a58a-e8e142fab5f2",
   "metadata": {},
   "outputs": [],
   "source": [
    "new_sl.update({'이름': a_s[0],\n",
    "       '나이' : a_s[1],\n",
    "       '전공' : a_s[2],\n",
    "       '전화번호' : a_s[3],\n",
    "       '주소': a_s[4]})"
   ]
  },
  {
   "cell_type": "code",
   "execution_count": 25,
   "id": "a4009040-5cd2-446f-a203-2fb145b0ca86",
   "metadata": {},
   "outputs": [
    {
     "data": {
      "text/plain": [
       "{'이름': '홍길동',\n",
       " '나이': '20',\n",
       " '전공': '컴퓨터공학',\n",
       " '전화번호': '010-223-4444',\n",
       " '주소': '서울시 강동구 풍납동'}"
      ]
     },
     "execution_count": 25,
     "metadata": {},
     "output_type": "execute_result"
    }
   ],
   "source": [
    "new_sl"
   ]
  },
  {
   "cell_type": "code",
   "execution_count": 26,
   "id": "58a1b9ce-088a-430e-ac2a-b46e949af769",
   "metadata": {},
   "outputs": [],
   "source": [
    "학생자료.append(new_sl)"
   ]
  },
  {
   "cell_type": "code",
   "execution_count": 27,
   "id": "a110e1d3-8995-4207-bfae-2aebb90bcfdd",
   "metadata": {},
   "outputs": [
    {
     "data": {
      "text/plain": [
       "[{'이름': 'ㅁ', '나이': 10, '전공': 'ㅁ', '전화번호': 'ㅁ', '주소': 'ㅁ'},\n",
       " {'이름': 'a', '나이': 10, '전공': 'a', '전화번호': 'a', '주소': 'a'},\n",
       " {'이름': '홍길동',\n",
       "  '나이': '20',\n",
       "  '전공': '컴퓨터공학',\n",
       "  '전화번호': '010-223-4444',\n",
       "  '주소': '서울시 강동구 풍납동'},\n",
       " {'이름': '홍길동',\n",
       "  '나이': '20',\n",
       "  '전공': '컴퓨터공학',\n",
       "  '전화번호': '010-223-4444',\n",
       "  '주소': '서울시 강동구 풍납동'}]"
      ]
     },
     "execution_count": 27,
     "metadata": {},
     "output_type": "execute_result"
    }
   ],
   "source": [
    "학생자료"
   ]
  },
  {
   "cell_type": "code",
   "execution_count": null,
   "id": "d75d6bad-bbf7-4d28-88c2-136c4d650b5d",
   "metadata": {},
   "outputs": [],
   "source": []
  },
  {
   "cell_type": "code",
   "execution_count": 12,
   "id": "81c881ba-46f4-44d6-b187-7b1a43162c65",
   "metadata": {},
   "outputs": [
    {
     "data": {
      "text/plain": [
       "dict_values(['ㅁ', 10, 'ㅁ', 'ㅁ', 'ㅁ'])"
      ]
     },
     "execution_count": 12,
     "metadata": {},
     "output_type": "execute_result"
    }
   ],
   "source": [
    "학생자료[0].values()"
   ]
  },
  {
   "cell_type": "code",
   "execution_count": null,
   "id": "3986960b-b261-40bf-a99f-0b9ae2189f6e",
   "metadata": {},
   "outputs": [],
   "source": []
  },
  {
   "cell_type": "code",
   "execution_count": null,
   "id": "09aac5bc-2353-4e5a-8c22-fecb780b772b",
   "metadata": {},
   "outputs": [],
   "source": []
  },
  {
   "cell_type": "code",
   "execution_count": null,
   "id": "15365018-d4fa-452c-a978-571a6021ded2",
   "metadata": {},
   "outputs": [],
   "source": []
  },
  {
   "cell_type": "code",
   "execution_count": null,
   "id": "69728f38-6c2d-4712-b170-0092bd28f482",
   "metadata": {},
   "outputs": [],
   "source": []
  },
  {
   "cell_type": "code",
   "execution_count": null,
   "id": "17da3145-b4fb-4aef-abd7-e2507891a3a3",
   "metadata": {},
   "outputs": [],
   "source": []
  },
  {
   "cell_type": "code",
   "execution_count": null,
   "id": "18412e69-a50d-406b-9b44-c8cb80a63efb",
   "metadata": {},
   "outputs": [],
   "source": []
  }
 ],
 "metadata": {
  "kernelspec": {
   "display_name": "Python 3 (ipykernel)",
   "language": "python",
   "name": "python3"
  },
  "language_info": {
   "codemirror_mode": {
    "name": "ipython",
    "version": 3
   },
   "file_extension": ".py",
   "mimetype": "text/x-python",
   "name": "python",
   "nbconvert_exporter": "python",
   "pygments_lexer": "ipython3",
   "version": "3.10.8"
  }
 },
 "nbformat": 4,
 "nbformat_minor": 5
}
