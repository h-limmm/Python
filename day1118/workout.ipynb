{
 "cells": [
  {
   "cell_type": "code",
   "execution_count": null,
   "id": "08cc0b73-855c-49c7-8942-0db2739e9bff",
   "metadata": {},
   "outputs": [],
   "source": []
  },
  {
   "cell_type": "code",
   "execution_count": null,
   "id": "52842200-cb29-48b5-84e7-94135e47bf89",
   "metadata": {},
   "outputs": [],
   "source": [
    "입력\n",
    "- input \n",
    "\n",
    "저장\n",
    "- 로컬 영역에 저장되어있는 성질을 사용하는 방법,,? \n",
    "\n",
    "출력"
   ]
  },
  {
   "cell_type": "code",
   "execution_count": null,
   "id": "09d2c474-45e3-4aa2-b94a-242aef2429bd",
   "metadata": {},
   "outputs": [],
   "source": []
  },
  {
   "cell_type": "code",
   "execution_count": 53,
   "id": "63601d84-54cc-42c9-af54-26d8c3781ad7",
   "metadata": {},
   "outputs": [
    {
     "name": "stdout",
     "output_type": "stream",
     "text": [
      "학생정보 관리. 메뉴를 선택하시오:________ \n",
      "[ 0명이 학생 정보가 있습니다]\n",
      "------------------------------\n",
      "1. 학생정보 입력\n",
      "2. 학생정보 검색\n",
      "3. 학생정보 출력\n",
      "4. 학생정보 저장\n",
      "5. 종료\n"
     ]
    }
   ],
   "source": [
    "print('학생정보 관리. 메뉴를 선택하시오:________ \\n[ 0명이 학생 정보가 있습니다]\\n------------------------------\\n1. 학생정보 입력\\n2. 학생정보 검색\\n3. 학생정보 출력\\n4. 학생정보 저장\\n5. 종료')"
   ]
  },
  {
   "cell_type": "code",
   "execution_count": 54,
   "id": "c3f38f72-f5a7-401f-b8a2-93b93b9ffbaa",
   "metadata": {},
   "outputs": [
    {
     "name": "stdout",
     "output_type": "stream",
     "text": [
      "학생정보 관리. 메뉴를 선택하시오:________\n",
      " [ 0명이 학생 정보가 있습니다]\n",
      "------------------------------\n",
      "1. 학생정보 입력\n",
      "2. 학생정보 검색\n",
      "3. 학생정보 출력\n",
      "4. 학생정보 저장\n",
      "5. 종료\n"
     ]
    }
   ],
   "source": [
    "print('학생정보 관리. 메뉴를 선택하시오:________')\n",
    "print(' [ 0명이 학생 정보가 있습니다]')\n",
    "print('------------------------------')\n",
    "print('1. 학생정보 입력')\n",
    "print('2. 학생정보 검색')\n",
    "print('3. 학생정보 출력')\n",
    "print('4. 학생정보 저장')\n",
    "print('5. 종료')\n",
    "\n"
   ]
  },
  {
   "cell_type": "code",
   "execution_count": 17,
   "id": "ab605a15-4809-4224-a175-d0307cc76b67",
   "metadata": {},
   "outputs": [],
   "source": [
    "sl =[]"
   ]
  },
  {
   "cell_type": "code",
   "execution_count": 21,
   "id": "a75691d5-e6e0-492c-8f3b-be70f471a8aa",
   "metadata": {},
   "outputs": [],
   "source": [
    "def main_():\n",
    "    sl =[]\n",
    "    while True:\n",
    "        print('메인화면')\n",
    "        print('학생정보 관리. 메뉴를 선택하시오:________')\n",
    "        print(f' [ {len(sl)+1}명이 학생 정보가 있습니다]')\n",
    "        print('------------------------------')\n",
    "        print('1. 학생정보 입력')\n",
    "        print('2. 학생정보 검색')\n",
    "        print('3. 학생정보 출력')\n",
    "        print('4. 학생정보 저장')\n",
    "        print('5. 종료')\n",
    "        \n",
    "        a = input()\n",
    "        if a == '5':\n",
    "            break\n",
    "        if a == '1':\n",
    "            return input_inpo_1()"
   ]
  },
  {
   "cell_type": "code",
   "execution_count": 11,
   "id": "433c372b-7c8d-4286-b1b7-7bf3cf3262d5",
   "metadata": {},
   "outputs": [],
   "source": [
    "def input_inpo_1():\n",
    "    print('학생 정보 입력')\n",
    "    while True:\n",
    "        a = input()\n",
    "        if a == '5':\n",
    "            break\n",
    "        if a == '1':\n",
    "            return input_inpo_1_1()"
   ]
  },
  {
   "cell_type": "code",
   "execution_count": null,
   "id": "7a8dbda8-7562-4317-b993-5f28f9e676b1",
   "metadata": {},
   "outputs": [],
   "source": []
  },
  {
   "cell_type": "code",
   "execution_count": 16,
   "id": "2b2ae16c-36a7-401a-b3f2-0d373f86ddd1",
   "metadata": {
    "tags": []
   },
   "outputs": [],
   "source": [
    "def input_inpo_1_1():\n",
    "    print('입력 화면')\n",
    "    a = input()\n",
    "    \n",
    "    if a == '5':\n",
    "        print('프로그램을 종료합니다')\n",
    "\n",
    "    else:\n",
    "        a_s = a.split(', ')\n",
    "        sl.append({'번호': len(sl)+1,\n",
    "                       '이름': a_s[0],\n",
    "                       '나이' : a_s[1],\n",
    "                       '전공' : a_s[2],\n",
    "                       '전화번호' : a_s[3],\n",
    "                       '주소': a_s[4]})\n",
    "      \n",
    "            "
   ]
  },
  {
   "cell_type": "code",
   "execution_count": 7,
   "id": "088abbfe-8b4a-4fe7-823b-eb1273655b11",
   "metadata": {},
   "outputs": [
    {
     "name": "stdout",
     "output_type": "stream",
     "text": [
      "입력 화면\n"
     ]
    },
    {
     "name": "stdin",
     "output_type": "stream",
     "text": [
      " 홍길동, 20, 컴퓨터공학, 010-223-4444, 서울시 강동구 풍납동\n"
     ]
    }
   ],
   "source": [
    "input_inpo_1_1()"
   ]
  },
  {
   "cell_type": "code",
   "execution_count": 22,
   "id": "7a5377a5-69f9-4251-8571-d7b4c41f6942",
   "metadata": {
    "tags": []
   },
   "outputs": [
    {
     "name": "stdout",
     "output_type": "stream",
     "text": [
      "메인화면\n",
      "학생정보 관리. 메뉴를 선택하시오:________\n",
      " [ 1명이 학생 정보가 있습니다]\n",
      "------------------------------\n",
      "1. 학생정보 입력\n",
      "2. 학생정보 검색\n",
      "3. 학생정보 출력\n",
      "4. 학생정보 저장\n",
      "5. 종료\n"
     ]
    },
    {
     "name": "stdin",
     "output_type": "stream",
     "text": [
      " 1\n"
     ]
    },
    {
     "name": "stdout",
     "output_type": "stream",
     "text": [
      "학생 정보 입력\n"
     ]
    },
    {
     "name": "stdin",
     "output_type": "stream",
     "text": [
      " 홍, 20, 컴퓨터공학, 010-223-4444, 서울시 강동구 풍납동\n",
      " 1\n"
     ]
    },
    {
     "name": "stdout",
     "output_type": "stream",
     "text": [
      "입력 화면\n"
     ]
    },
    {
     "name": "stdin",
     "output_type": "stream",
     "text": [
      " 홍, 20, 컴퓨터공학, 010-223-4444, 서울시 강동구 풍납동\n"
     ]
    }
   ],
   "source": [
    "main_()"
   ]
  },
  {
   "cell_type": "code",
   "execution_count": 23,
   "id": "8ebc206e-c6c8-4466-b607-03cf03023532",
   "metadata": {
    "tags": []
   },
   "outputs": [
    {
     "data": {
      "text/plain": [
       "[{'번호': 1,\n",
       "  '이름': '홍길동',\n",
       "  '나이': '20',\n",
       "  '전공': '컴퓨터공학',\n",
       "  '전화번호': '010-223-4444',\n",
       "  '주소': '서울시 강동구 풍납동'},\n",
       " {'번호': 2,\n",
       "  '이름': '홍',\n",
       "  '나이': '20',\n",
       "  '전공': '컴퓨터공학',\n",
       "  '전화번호': '010-223-4444',\n",
       "  '주소': '서울시 강동구 풍납동'}]"
      ]
     },
     "execution_count": 23,
     "metadata": {},
     "output_type": "execute_result"
    }
   ],
   "source": [
    "sl"
   ]
  },
  {
   "cell_type": "code",
   "execution_count": null,
   "id": "b786a239-dfcc-4bb9-a456-b210cd70983f",
   "metadata": {},
   "outputs": [],
   "source": []
  },
  {
   "cell_type": "code",
   "execution_count": null,
   "id": "5b962aaf-4246-493e-ae53-703247ca2c23",
   "metadata": {},
   "outputs": [],
   "source": []
  },
  {
   "cell_type": "code",
   "execution_count": null,
   "id": "dc18e893-0de8-4b6d-b605-4538314af7b5",
   "metadata": {},
   "outputs": [],
   "source": []
  },
  {
   "cell_type": "code",
   "execution_count": null,
   "id": "a60bc398-79c0-47ef-969a-3be6f28b94af",
   "metadata": {},
   "outputs": [],
   "source": []
  },
  {
   "cell_type": "code",
   "execution_count": null,
   "id": "7a856af4-3ae9-47e6-a35b-dfdd8a927d7b",
   "metadata": {},
   "outputs": [],
   "source": []
  },
  {
   "cell_type": "code",
   "execution_count": null,
   "id": "9263f188-4eae-4b6f-8db6-c158d01aa27f",
   "metadata": {},
   "outputs": [],
   "source": []
  },
  {
   "cell_type": "code",
   "execution_count": null,
   "id": "05bf6e76-0e17-463c-8c20-7dbbc4b58b67",
   "metadata": {},
   "outputs": [],
   "source": []
  },
  {
   "cell_type": "code",
   "execution_count": null,
   "id": "73a77943-048f-4e17-899f-5687538fdd83",
   "metadata": {},
   "outputs": [],
   "source": []
  },
  {
   "cell_type": "code",
   "execution_count": 22,
   "id": "38dedbd5-538c-4787-a24e-c64771a2da64",
   "metadata": {},
   "outputs": [
    {
     "data": {
      "text/plain": [
       "'홍길동, 20, 컴퓨터공학, 010-223-4444, 서울시 강동구 풍납동'"
      ]
     },
     "execution_count": 22,
     "metadata": {},
     "output_type": "execute_result"
    }
   ],
   "source": [
    "a"
   ]
  },
  {
   "cell_type": "code",
   "execution_count": null,
   "id": "3986960b-b261-40bf-a99f-0b9ae2189f6e",
   "metadata": {},
   "outputs": [],
   "source": []
  },
  {
   "cell_type": "code",
   "execution_count": null,
   "id": "09aac5bc-2353-4e5a-8c22-fecb780b772b",
   "metadata": {},
   "outputs": [],
   "source": []
  },
  {
   "cell_type": "code",
   "execution_count": null,
   "id": "15365018-d4fa-452c-a978-571a6021ded2",
   "metadata": {},
   "outputs": [],
   "source": []
  },
  {
   "cell_type": "code",
   "execution_count": null,
   "id": "69728f38-6c2d-4712-b170-0092bd28f482",
   "metadata": {},
   "outputs": [],
   "source": []
  },
  {
   "cell_type": "code",
   "execution_count": null,
   "id": "17da3145-b4fb-4aef-abd7-e2507891a3a3",
   "metadata": {},
   "outputs": [],
   "source": []
  },
  {
   "cell_type": "code",
   "execution_count": null,
   "id": "18412e69-a50d-406b-9b44-c8cb80a63efb",
   "metadata": {},
   "outputs": [],
   "source": []
  }
 ],
 "metadata": {
  "kernelspec": {
   "display_name": "Python 3 (ipykernel)",
   "language": "python",
   "name": "python3"
  },
  "language_info": {
   "codemirror_mode": {
    "name": "ipython",
    "version": 3
   },
   "file_extension": ".py",
   "mimetype": "text/x-python",
   "name": "python",
   "nbconvert_exporter": "python",
   "pygments_lexer": "ipython3",
   "version": "3.10.8"
  }
 },
 "nbformat": 4,
 "nbformat_minor": 5
}
